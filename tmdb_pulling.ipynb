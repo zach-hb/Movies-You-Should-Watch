{
 "cells": [
  {
   "cell_type": "code",
   "execution_count": 23,
   "metadata": {},
   "outputs": [],
   "source": [
    "import requests\n",
    "import json\n",
    "import pandas as pd\n",
    "import time\n",
    "from tmdb_key_z import bearer"
   ]
  },
  {
   "cell_type": "markdown",
   "metadata": {},
   "source": [
    "# Single API call to TMDB"
   ]
  },
  {
   "cell_type": "code",
   "execution_count": null,
   "metadata": {},
   "outputs": [],
   "source": [
    "# url = \"https://api.themoviedb.org/3/movie/top_rated?language=en-US&page=1\"\n",
    "\n",
    "# headers = {\n",
    "#     \"accept\": \"application/json\",\n",
    "#     \"Authorization\": f\"Bearer {bearer}\"\n",
    "# }\n",
    "\n",
    "# response = requests.get(url, headers=headers)\n",
    "# data = response.json()\n",
    "# print(json.dumps(data, indent=4, sort_keys=True))"
   ]
  },
  {
   "cell_type": "code",
   "execution_count": 14,
   "metadata": {},
   "outputs": [],
   "source": [
    "# titles = []\n",
    "# genres = []\n",
    "# original_language = []\n",
    "# overview = []\n",
    "# release_date = []\n",
    "# vote_average = []"
   ]
  },
  {
   "cell_type": "code",
   "execution_count": 15,
   "metadata": {},
   "outputs": [],
   "source": [
    "# for movie in data['results']:\n",
    "#     titles.append(movie['title'])\n",
    "#     genres.append(movie['genre_ids'])\n",
    "#     original_language.append(movie['original_language'])\n",
    "#     overview.append(movie['overview'])\n",
    "#     release_date.append(movie['release_date'])\n",
    "#     vote_average.append(movie['vote_average'])\n"
   ]
  },
  {
   "cell_type": "markdown",
   "metadata": {},
   "source": [
    "# Multiple calls to tmdb API"
   ]
  },
  {
   "cell_type": "code",
   "execution_count": 24,
   "metadata": {},
   "outputs": [],
   "source": [
    "# initialize lists\n",
    "titles = []\n",
    "genres = []\n",
    "original_language = []\n",
    "overview = []\n",
    "release_date = []\n",
    "vote_average = []"
   ]
  },
  {
   "cell_type": "code",
   "execution_count": null,
   "metadata": {},
   "outputs": [],
   "source": [
    "# call tmdb api multiple times\n",
    "for i in range(1,501):\n",
    "    url = f\"https://api.themoviedb.org/3/movie/top_rated?language=en-US&page={i}\"\n",
    "\n",
    "    headers = {\n",
    "        \"accept\": \"application/json\",\n",
    "        \"Authorization\": f\"Bearer {bearer}\"\n",
    "    }\n",
    "\n",
    "    response = requests.get(url, headers=headers)\n",
    "    data = response.json()\n",
    "    # append data for each call to lists\n",
    "    for movie in data['results']:\n",
    "        titles.append(movie['title'])\n",
    "        genres.append(movie['genre_ids'])\n",
    "        original_language.append(movie['original_language'])\n",
    "        overview.append(movie['overview'])\n",
    "        release_date.append(movie['release_date'])\n",
    "        vote_average.append(movie['vote_average'])\n",
    "\n",
    "    time.sleep(0.25)"
   ]
  },
  {
   "cell_type": "code",
   "execution_count": 32,
   "metadata": {},
   "outputs": [
    {
     "data": {
      "text/html": [
       "<div>\n",
       "<style scoped>\n",
       "    .dataframe tbody tr th:only-of-type {\n",
       "        vertical-align: middle;\n",
       "    }\n",
       "\n",
       "    .dataframe tbody tr th {\n",
       "        vertical-align: top;\n",
       "    }\n",
       "\n",
       "    .dataframe thead th {\n",
       "        text-align: right;\n",
       "    }\n",
       "</style>\n",
       "<table border=\"1\" class=\"dataframe\">\n",
       "  <thead>\n",
       "    <tr style=\"text-align: right;\">\n",
       "      <th></th>\n",
       "      <th>Title</th>\n",
       "      <th>Rating</th>\n",
       "      <th>Release Date</th>\n",
       "      <th>Genre_IDs</th>\n",
       "      <th>Language</th>\n",
       "      <th>Overview</th>\n",
       "    </tr>\n",
       "  </thead>\n",
       "  <tbody>\n",
       "    <tr>\n",
       "      <th>9995</th>\n",
       "      <td>The Real McCoy</td>\n",
       "      <td>5.6</td>\n",
       "      <td>1993-09-10</td>\n",
       "      <td>[28, 80, 18, 53]</td>\n",
       "      <td>en</td>\n",
       "      <td>Karen McCoy is released from prison with nothi...</td>\n",
       "    </tr>\n",
       "    <tr>\n",
       "      <th>9996</th>\n",
       "      <td>Love Wedding Repeat</td>\n",
       "      <td>5.6</td>\n",
       "      <td>2020-04-10</td>\n",
       "      <td>[35, 10749]</td>\n",
       "      <td>en</td>\n",
       "      <td>While trying to make his sister's wedding day ...</td>\n",
       "    </tr>\n",
       "    <tr>\n",
       "      <th>9997</th>\n",
       "      <td>The House</td>\n",
       "      <td>5.6</td>\n",
       "      <td>2017-06-29</td>\n",
       "      <td>[35]</td>\n",
       "      <td>en</td>\n",
       "      <td>When Scott and Kate Johansen’s daughter gets i...</td>\n",
       "    </tr>\n",
       "    <tr>\n",
       "      <th>9998</th>\n",
       "      <td>Si vive una volta sola</td>\n",
       "      <td>5.6</td>\n",
       "      <td>2021-04-28</td>\n",
       "      <td>[35]</td>\n",
       "      <td>it</td>\n",
       "      <td>Umberto, Lucia and Corrado discover that their...</td>\n",
       "    </tr>\n",
       "    <tr>\n",
       "      <th>9999</th>\n",
       "      <td>The Return of Swamp Thing</td>\n",
       "      <td>5.6</td>\n",
       "      <td>1989-05-11</td>\n",
       "      <td>[27, 878]</td>\n",
       "      <td>en</td>\n",
       "      <td>The Swamp Thing returns to battle the evil Dr....</td>\n",
       "    </tr>\n",
       "  </tbody>\n",
       "</table>\n",
       "</div>"
      ],
      "text/plain": [
       "                          Title  Rating Release Date         Genre_IDs   \n",
       "9995             The Real McCoy     5.6   1993-09-10  [28, 80, 18, 53]  \\\n",
       "9996        Love Wedding Repeat     5.6   2020-04-10       [35, 10749]   \n",
       "9997                  The House     5.6   2017-06-29              [35]   \n",
       "9998     Si vive una volta sola     5.6   2021-04-28              [35]   \n",
       "9999  The Return of Swamp Thing     5.6   1989-05-11         [27, 878]   \n",
       "\n",
       "     Language                                           Overview  \n",
       "9995       en  Karen McCoy is released from prison with nothi...  \n",
       "9996       en  While trying to make his sister's wedding day ...  \n",
       "9997       en  When Scott and Kate Johansen’s daughter gets i...  \n",
       "9998       it  Umberto, Lucia and Corrado discover that their...  \n",
       "9999       en  The Swamp Thing returns to battle the evil Dr....  "
      ]
     },
     "execution_count": 32,
     "metadata": {},
     "output_type": "execute_result"
    }
   ],
   "source": [
    "movie_df = pd.DataFrame({\n",
    "    'Title':titles,\n",
    "    'Rating':vote_average,\n",
    "    'Release Date':release_date,\n",
    "    'Genre_IDs':genres,\n",
    "    'Language':original_language,\n",
    "    'Overview':overview\n",
    "})\n",
    "movie_df.tail()"
   ]
  }
 ],
 "metadata": {
  "kernelspec": {
   "display_name": "base",
   "language": "python",
   "name": "python3"
  },
  "language_info": {
   "codemirror_mode": {
    "name": "ipython",
    "version": 3
   },
   "file_extension": ".py",
   "mimetype": "text/x-python",
   "name": "python",
   "nbconvert_exporter": "python",
   "pygments_lexer": "ipython3",
   "version": "3.9.13"
  },
  "orig_nbformat": 4
 },
 "nbformat": 4,
 "nbformat_minor": 2
}
